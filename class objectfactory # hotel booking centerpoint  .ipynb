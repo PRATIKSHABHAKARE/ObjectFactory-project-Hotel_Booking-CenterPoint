{
 "cells": [
  {
   "cell_type": "code",
   "execution_count": 11,
   "id": "8f7de5bb",
   "metadata": {},
   "outputs": [],
   "source": [
    "class ObjectFactory():\n",
    "    cp=CenterPoint()\n",
    "    def getcpobject(self):\n",
    "        return self.cp\n",
    "    man=Manager()\n",
    "    def getManagerObject(self):\n",
    "        return self.man\n",
    "    men=Menu()\n",
    "    def getMenuobject(self):\n",
    "        return self.men\n",
    "    dish=DishInfo()\n",
    "    def getDishInfoobject(self):\n",
    "        return self.dish\n",
    "    tbill=TotalBill()\n",
    "    def getTBillobject(self):\n",
    "        return self.tbill\n",
    "    disbill = DisplayBill()\n",
    "    def getdisplayobject(self):\n",
    "        return self.disbill"
   ]
  },
  {
   "cell_type": "code",
   "execution_count": 9,
   "id": "b659524d",
   "metadata": {},
   "outputs": [],
   "source": [
    "class TotalBill():\n",
    "    bill=0\n",
    "    def updateBill(self,amt,plates):\n",
    "        self.bill = self.bill + amt*plates\n",
    "    def getTotalBill(self):\n",
    "         return self.bill"
   ]
  },
  {
   "cell_type": "code",
   "execution_count": 8,
   "id": "3918d7c9",
   "metadata": {},
   "outputs": [],
   "source": [
    "class DisplayBill():\n",
    "    def display(self,obj):\n",
    "        print(\"Dishname\",\"Price\",\"Plates\",\"Bill\")\n",
    "        print(obj.getDishInfoobject().getPizzaname(),obj.getDishInfoobject().getPizzaPrice(),obj.getDishInfoobject().getPizzaCount(), obj.getDishInfoobject().getPizzaPrice()*obj.getDishInfoobject().getPizzaCount())     \n",
    "        print (\"YOUR TOTAL BILL IS\",obj.getTBillobject().getTotalBill())\n",
    "             "
   ]
  },
  {
   "cell_type": "code",
   "execution_count": 7,
   "id": "0e3cccd8",
   "metadata": {},
   "outputs": [],
   "source": [
    "class Menu():\n",
    "    def getMenu(self):\n",
    "        print(\"1 for pizza\")\n",
    "        print(\"2 for burger\")\n",
    "        print(\"3 for bill or exit\")"
   ]
  },
  {
   "cell_type": "code",
   "execution_count": 6,
   "id": "77e08a9b",
   "metadata": {},
   "outputs": [],
   "source": [
    "class DishInfo():\n",
    "    def getPizzaname(self):\n",
    "        return \"PIZZA\"\n",
    "    def getburgername(self):\n",
    "        return \"BURGER\"\n",
    "    def getPizzaPrice(self):\n",
    "        return 200\n",
    "    def getburgerPrice(self):\n",
    "        return 150\n",
    "    PizzaCount=0\n",
    "    def setPizzaCount(self,plates):\n",
    "        self.PizzaCount=self.PizzaCount + plates\n",
    "    def getPizzaCount(self):\n",
    "        return self.PizzaCount\n",
    "    burgerCount=0\n",
    "    def setburgerCount(self,plates):\n",
    "        self.burgerCount=self.burgerCount + plates\n",
    "    def getburgerCount(self):\n",
    "        return self.burgerCount"
   ]
  },
  {
   "cell_type": "code",
   "execution_count": 5,
   "id": "94c5a03b",
   "metadata": {},
   "outputs": [],
   "source": [
    "class Manager():\n",
    "    def orders(self,obj):\n",
    "        flag=True\n",
    "        men=obj.getMenuobject()\n",
    "        dish=obj.getDishInfoobject()\n",
    "        tbill=obj.getTBillobject()\n",
    "        while(flag):\n",
    "            men.getMenu()\n",
    "            print(\"choose ur option from the given menu only\")\n",
    "            opt=int(input())\n",
    "            if(opt==1):\n",
    "                plates=int(input(\"enter num of plates\"))\n",
    "                print(\"your\",dish.getPizzaname(),\"is ready\")\n",
    "                dish.setPizzaCount(plates)\n",
    "                tbill.updateBill(dish.getPizzaPrice(), plates)\n",
    "            elif(opt==2):\n",
    "                plates=int(input(\"enter num of plates\"))\n",
    "                print(\"your\",dish.getburgername(),\"is ready\")\n",
    "                dish.setburgerCount(plates)\n",
    "                tbill.updateBill(dish.getburgerPrice(), plates)\n",
    "            elif(opt==3):\n",
    "                obj.getdisplayobject().display(obj)\n",
    "                flag=False\n",
    "        "
   ]
  },
  {
   "cell_type": "code",
   "execution_count": 3,
   "id": "171e48a4",
   "metadata": {},
   "outputs": [],
   "source": [
    "class CenterPoint():\n",
    "    def welcome(self,obj):\n",
    "        print(\"WELCOME TO CENTERPOINT\")\n",
    "        m=obj.getManagerObject()\n",
    "        m.orders(obj)"
   ]
  },
  {
   "cell_type": "code",
   "execution_count": null,
   "id": "2783a550",
   "metadata": {},
   "outputs": [
    {
     "name": "stdout",
     "output_type": "stream",
     "text": [
      "WELCOME TO CENTERPOINT\n",
      "1 for pizza\n",
      "2 for burger\n",
      "3 for bill or exit\n",
      "choose ur option from the given menu only\n",
      "1\n"
     ]
    }
   ],
   "source": [
    "obj=ObjectFactory()\n",
    "cp=obj.getcpobject()\n",
    "cp.welcome(obj)"
   ]
  },
  {
   "cell_type": "code",
   "execution_count": 368,
   "id": "90fcdc6c",
   "metadata": {},
   "outputs": [],
   "source": [
    "class TotalBill():\n",
    "    bill=0\n",
    "    def updateBill(self,amt,plates):\n",
    "        self.bill = self.bill + amt*plates\n",
    "    def TotalBill(self,obj):\n",
    "         return self.bill\n",
    "        "
   ]
  },
  {
   "cell_type": "code",
   "execution_count": 369,
   "id": "e9b95c1a",
   "metadata": {},
   "outputs": [],
   "source": [
    "class Discount():\n",
    "    def getDiscount(self,obj):\n",
    "        TBill= obj.getTotalBillobject()\n",
    "        day=input(\"enter day of the week\")\n",
    "        if(day==\"monday\"):\n",
    "            print(\"your total bill is\", obj.getTotalBillobject().TotalBill(obj))\n",
    "            Discount=obj.getTotalBillobject().TotalBill(obj)/100*20\n",
    "            print(\"your discount is\",Discount)\n",
    "            print(\"after discount total bill is\",obj.getTotalBillobject().TotalBill(obj)-Discount)"
   ]
  },
  {
   "cell_type": "code",
   "execution_count": 370,
   "id": "28162baa",
   "metadata": {},
   "outputs": [],
   "source": [
    "class DisplayBill():\n",
    "    def display(self,obj):\n",
    "        print(\"Dishname\",\"Price\",\"Plates\",\"Bill\")\n",
    "        print(obj.getDishInfoobject().getPizzaname(),obj.getDishInfoobject().getPizzaPrice(),obj.getDishInfoobject().getPizzaCount(), obj.getDishInfoobject().getPizzaPrice()*obj.getDishInfoobject().getPizzaCount())     \n",
    "        print (\"YOUR TOTAL BILL IS\",obj.getTotalBillobject().TotalBill(obj))\n",
    "        obj.getDiscountobject().getDiscount(obj)\n",
    "             "
   ]
  },
  {
   "cell_type": "code",
   "execution_count": 371,
   "id": "47903479",
   "metadata": {},
   "outputs": [],
   "source": [
    "class Menu():\n",
    "    def getMenu(self):\n",
    "        print(\"1 for pizza\")\n",
    "        print(\"2 for burger\")\n",
    "        print(\"3 for bill or exit\")"
   ]
  },
  {
   "cell_type": "code",
   "execution_count": 372,
   "id": "8e95f355",
   "metadata": {},
   "outputs": [],
   "source": [
    "class DishInfo():\n",
    "    def getPizzaname(self):\n",
    "        return \"PIZZA\"\n",
    "    def getburgername(self):\n",
    "        return \"BURGER\"\n",
    "    def getPizzaPrice(self):\n",
    "        return 200\n",
    "    def getburgerPrice(self):\n",
    "        return 150\n",
    "    PizzaCount=0\n",
    "    def setPizzaCount(self,plates):\n",
    "        self.PizzaCount=self.PizzaCount + plates\n",
    "    def getPizzaCount(self):\n",
    "        return self.PizzaCount\n",
    "    burgerCount=0\n",
    "    def setburgerCount(self,plates):\n",
    "        self.burgerCount=self.burgerCount + plates\n",
    "    def getburgerCount(self):\n",
    "        return self.burgerCount"
   ]
  },
  {
   "cell_type": "code",
   "execution_count": 373,
   "id": "a3a60cef",
   "metadata": {},
   "outputs": [],
   "source": [
    "class Manager():\n",
    "    def orders(self,obj):\n",
    "        flag=True\n",
    "        men=obj.getMenuobject()\n",
    "        dish=obj.getDishInfoobject()\n",
    "        TBill=obj.getTotalBillobject()\n",
    "        while(flag):\n",
    "            men.getMenu()\n",
    "            print(\"choose ur option from the given menu only\")\n",
    "            opt=int(input())\n",
    "            if(opt==1):\n",
    "                plates=int(input(\"enter num of plates\"))\n",
    "                print(\"your\",dish.getPizzaname(),\"is ready\")\n",
    "                dish.setPizzaCount(plates)\n",
    "                TBill.updateBill(dish.getPizzaPrice(), plates)\n",
    "            elif(opt==2):\n",
    "                plates=int(input(\"enter num of plates\"))\n",
    "                print(\"your\",dish.getburgername(),\"is ready\")\n",
    "                dish.setburgerCount(plates)\n",
    "                TBill.updateBill(dish.getburgerPrice(), plates)\n",
    "            elif(opt==3):\n",
    "                         obj.getdisplayobject().display(obj)\n",
    "                         Discount=obj.getTotalBillobject().TotalBill(obj)\n",
    "                         flag=False\n",
    "        "
   ]
  },
  {
   "cell_type": "code",
   "execution_count": 374,
   "id": "60369c63",
   "metadata": {},
   "outputs": [],
   "source": [
    "class CenterPoint():\n",
    "    def welcome(self,obj):\n",
    "        print(\"WELCOME TO CENTERPOINT\")\n",
    "        m=obj.getManagerobject()\n",
    "        m.orders(obj)"
   ]
  },
  {
   "cell_type": "code",
   "execution_count": 375,
   "id": "bd7e2410",
   "metadata": {},
   "outputs": [],
   "source": [
    "class ObjectFactory():\n",
    "    cp =CenterPoint()\n",
    "    def getcpobject(self):\n",
    "        return self.cp\n",
    "    man=Manager()\n",
    "    def getManagerobject(self):\n",
    "        return self.man\n",
    "    men=Menu()\n",
    "    def getMenuobject(self):\n",
    "        return self.men\n",
    "    dish=DishInfo()\n",
    "    def getDishInfoobject(self):\n",
    "        return self.dish\n",
    "    TBill=TotalBill()\n",
    "    def getTotalBillobject(self):\n",
    "        return self.TBill\n",
    "    disbill = DisplayBill()\n",
    "    def getdisplayobject(self):\n",
    "        return self.disbill\n",
    "    dis=Discount()\n",
    "    def getDiscountobject(self):\n",
    "        return self.dis"
   ]
  },
  {
   "cell_type": "code",
   "execution_count": 376,
   "id": "54e2d5d2",
   "metadata": {},
   "outputs": [
    {
     "name": "stdout",
     "output_type": "stream",
     "text": [
      "WELCOME TO CENTERPOINT\n",
      "1 for pizza\n",
      "2 for burger\n",
      "3 for bill or exit\n",
      "choose ur option from the given menu only\n",
      "1\n",
      "enter num of plates2\n",
      "your PIZZA is ready\n",
      "1 for pizza\n",
      "2 for burger\n",
      "3 for bill or exit\n",
      "choose ur option from the given menu only\n",
      "3\n",
      "Dishname Price Plates Bill\n",
      "PIZZA 200 2 400\n",
      "YOUR TOTAL BILL IS 400\n",
      "enter day of the weekmonday\n",
      "your total bill is 400\n",
      "your discount is 80.0\n",
      "after discount total bill is 320.0\n"
     ]
    }
   ],
   "source": [
    "obj=ObjectFactory()\n",
    "cp=obj.getcpobject()\n",
    "cp.welcome(obj)"
   ]
  },
  {
   "cell_type": "code",
   "execution_count": null,
   "id": "b7afb149",
   "metadata": {},
   "outputs": [],
   "source": []
  }
 ],
 "metadata": {
  "kernelspec": {
   "display_name": "Python 3 (ipykernel)",
   "language": "python",
   "name": "python3"
  },
  "language_info": {
   "codemirror_mode": {
    "name": "ipython",
    "version": 3
   },
   "file_extension": ".py",
   "mimetype": "text/x-python",
   "name": "python",
   "nbconvert_exporter": "python",
   "pygments_lexer": "ipython3",
   "version": "3.11.5"
  }
 },
 "nbformat": 4,
 "nbformat_minor": 5
}
